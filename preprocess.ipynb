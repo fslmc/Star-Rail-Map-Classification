{
 "cells": [
  {
   "cell_type": "code",
   "execution_count": 1,
   "id": "8a8d46bb-58cc-4fd0-bc99-03a1d416a7f6",
   "metadata": {},
   "outputs": [],
   "source": [
    "from google_images_download import google_images_download"
   ]
  },
  {
   "cell_type": "code",
   "execution_count": 2,
   "id": "6bcf64c6-be71-44a3-a485-7a490e8b1f2a",
   "metadata": {},
   "outputs": [],
   "source": [
    "def scrape_google_images(query, limit=500):\n",
    "    response = google_images_download.googleimagesdownload()\n",
    "    arguments = {\n",
    "        \"keywords\": query,\n",
    "        \"limit\": limit,\n",
    "        \"format\": \"jpg\",\n",
    "        \"output_directory\": \"downloads\",\n",
    "        \"no_directory\": True,  # Save all images in one folder\n",
    "        \"silent_mode\": True\n",
    "    }\n",
    "    response.download(arguments)"
   ]
  },
  {
   "cell_type": "code",
   "execution_count": 6,
   "id": "7ec0bd94-4628-455b-8ab4-0b9a80f0a20a",
   "metadata": {},
   "outputs": [
    {
     "name": "stdout",
     "output_type": "stream",
     "text": [
      "Downloading images for: Honkai Star Rail Screenshots ...\n",
      "Looks like we cannot locate the path the 'chromedriver' (use the '--chromedriver' argument to specify the path to the executable.) or google chrome browser is not installed on your machine (exception: WebDriver.__init__() got an unexpected keyword argument 'chrome_options')\n"
     ]
    },
    {
     "ename": "SystemExit",
     "evalue": "",
     "output_type": "error",
     "traceback": [
      "An exception has occurred, use %tb to see the full traceback.\n",
      "\u001b[1;31mSystemExit\u001b[0m\n"
     ]
    }
   ],
   "source": [
    "scrape_google_images(\"Honkai Star Rail Screenshots\")"
   ]
  },
  {
   "cell_type": "code",
   "execution_count": null,
   "id": "5f1ce037-2a37-4af4-a4a4-c989d1cacf3e",
   "metadata": {},
   "outputs": [],
   "source": []
  }
 ],
 "metadata": {
  "kernelspec": {
   "display_name": "Python 3 (ipykernel)",
   "language": "python",
   "name": "python3"
  },
  "language_info": {
   "codemirror_mode": {
    "name": "ipython",
    "version": 3
   },
   "file_extension": ".py",
   "mimetype": "text/x-python",
   "name": "python",
   "nbconvert_exporter": "python",
   "pygments_lexer": "ipython3",
   "version": "3.12.0"
  }
 },
 "nbformat": 4,
 "nbformat_minor": 5
}
